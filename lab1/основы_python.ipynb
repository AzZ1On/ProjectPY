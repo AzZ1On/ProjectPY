{
  "cells": [
    {
      "cell_type": "markdown",
      "metadata": {
        "id": "M-DGa20PaHnu"
      },
      "source": [
        "#Задача 1\n",
        "Написать функцию на вход которой подается строка, состоящая из латинских букв.\n",
        "Функция должна вернуть количество гласных букв (a, e, i, o, u) в этой строке. Написать тесты для кода"
      ]
    },
    {
      "cell_type": "code",
      "execution_count": 5,
      "metadata": {
        "id": "XvX8X_JJ6PCb"
      },
      "outputs": [
        {
          "name": "stdout",
          "output_type": "stream",
          "text": [
            "3\n",
            "4\n"
          ]
        }
      ],
      "source": [
        "def count_vowels(string):\n",
        "  \"\"\"\n",
        "  Подсчитывает количество гласных букв в строке.\n",
        "\n",
        "  Args:\n",
        "    string: Строка, в которой нужно посчитать гласные буквы.\n",
        "\n",
        "  Returns:\n",
        "    Количество гласных букв.\n",
        "  \"\"\"\n",
        "  vowels = \"aeiou\"\n",
        "  count = 0\n",
        "  for char in string.lower():\n",
        "    if char in vowels:\n",
        "      count += 1\n",
        "  return count\n",
        "\n",
        "\n",
        "# Пример использования\n",
        "string = \"Hello, world!\"\n",
        "number_of_vowels = count_vowels(string)\n",
        "print(number_of_vowels)\n",
        "\n",
        "\n",
        "string = \"I Love Python\"\n",
        "number_of_vowels = count_vowels(string)\n",
        "print(number_of_vowels)"
      ]
    },
    {
      "cell_type": "markdown",
      "metadata": {
        "id": "t2ClV_Y0bbr6"
      },
      "source": [
        "# Задача 2\n",
        "Написать функцию на вход, которой подается строка. Функция должна вернуть true, если\n",
        "каждый символ в строке встречается только 1 раз, иначе должна вернуть false. Написать тесты для кода"
      ]
    },
    {
      "cell_type": "code",
      "execution_count": 11,
      "metadata": {
        "id": "FppbECao6VIz"
      },
      "outputs": [
        {
          "name": "stdout",
          "output_type": "stream",
          "text": [
            "False\n",
            "True\n"
          ]
        }
      ],
      "source": [
        "def is_unique_chars(string):\n",
        "  \"\"\"\n",
        "  Проверяет, встречается ли каждый символ в строке только один раз.\n",
        "\n",
        "  Args:\n",
        "    string: Строка, которую нужно проверить.\n",
        "\n",
        "  Returns:\n",
        "    True, если все символы в строке уникальны, False - иначе.\n",
        "  \"\"\"\n",
        "  char_set = set()\n",
        "  for char in string:\n",
        "    if char in char_set:\n",
        "      return False\n",
        "    char_set.add(char)\n",
        "  return True\n",
        "\n",
        "# Пример использования\n",
        "string = \"Hello, world!\"\n",
        "is_unique = is_unique_chars(string)\n",
        "print(is_unique)\n",
        "\n",
        "string = \"I LoveC#\"\n",
        "is_unique = is_unique_chars(string)\n",
        "print(is_unique)"
      ]
    },
    {
      "cell_type": "markdown",
      "metadata": {
        "id": "udRiIK1cdt6E"
      },
      "source": [
        "# Задача 3\n",
        "Написать функцию, которая принимает положительное число и возвращает количество\n",
        "бит равных 1 в этом числе. Написать тесты для кода"
      ]
    },
    {
      "cell_type": "code",
      "execution_count": 30,
      "metadata": {
        "id": "6tkfDJRz6dp_"
      },
      "outputs": [
        {
          "name": "stdout",
          "output_type": "stream",
          "text": [
            "1\n",
            "2\n",
            "3\n",
            "4\n"
          ]
        }
      ],
      "source": [
        "def count_bits(n):\n",
        "  \"\"\"\n",
        "  Подсчитывает количество единичных битов в числе.\n",
        "\n",
        "  Args:\n",
        "    n: Положительное целое число.\n",
        "\n",
        "  Returns:\n",
        "    Количество единичных битов.\n",
        "  \"\"\"\n",
        "  count = 0\n",
        "  while n:\n",
        "    if n & 1:\n",
        "      count += 1\n",
        "    n >>= 1\n",
        "  return count\n",
        "\n",
        "# Пример использования\n",
        "number = 8\n",
        "number_of_bits = count_bits(number)\n",
        "print(number_of_bits)\n",
        "\n",
        "number = 10\n",
        "number_of_bits = count_bits(number)\n",
        "print(number_of_bits)\n",
        "\n",
        "number = 13\n",
        "number_of_bits = count_bits(number)\n",
        "print(number_of_bits)\n",
        "\n",
        "number = 15\n",
        "number_of_bits = count_bits(number)\n",
        "print(number_of_bits)\n"
      ]
    },
    {
      "cell_type": "markdown",
      "metadata": {
        "id": "26dDUz-Ae17N"
      },
      "source": [
        "# Задача 4\n",
        "Написать функцию, которая принимает положительное число. Функция должна вернуть то,\n",
        "сколько раз необходимо перемножать цифры числа или результат перемножения, чтобы\n",
        "получилось число состоящее из одной цифры.\n",
        "Например, для входного числа:\n",
        "· 39 функция должна вернуть 3, так как 3*9=27 => 2*7=14 => 1*4=4\n",
        "· 4 функция должна вернуть 0, так как число уже состоит из одной цифры\n",
        "· 999 функция должна вернуть 4, так как 9*9*9=729 => 7*2*9=126 => 1*2*6=12 =>\n",
        "1*2=2. Написать тесты для кода"
      ]
    },
    {
      "cell_type": "code",
      "execution_count": 28,
      "metadata": {
        "id": "BH1A_Mgi6i4G"
      },
      "outputs": [
        {
          "name": "stdout",
          "output_type": "stream",
          "text": [
            "3\n",
            "0\n",
            "4\n"
          ]
        }
      ],
      "source": [
        "def count_iterations(n):\n",
        "  \"\"\"\n",
        "  //Не очень понял суть магических методов\n",
        "  \n",
        "  Подсчитывает количество итераций, необходимых для получения однозначного числа из\n",
        "  данного.\n",
        "\n",
        "  Args:\n",
        "    n: Положительное целое число.\n",
        "\n",
        "  Returns:\n",
        "    Количество итераций.\n",
        "  \"\"\"\n",
        "  count = 0\n",
        "  while n >= 10:\n",
        "    product = 1\n",
        "    while n:\n",
        "      product *= n % 10\n",
        "      n //= 10\n",
        "    n = product\n",
        "    count += 1\n",
        "  return count\n",
        "\n",
        "# Примеры использования\n",
        "number = 39\n",
        "number_of_iterations = count_iterations(number)\n",
        "print(number_of_iterations)\n",
        "\n",
        "number = 4\n",
        "number_of_iterations = count_iterations(number)\n",
        "print(number_of_iterations)\n",
        "\n",
        "number = 999\n",
        "number_of_iterations = count_iterations(number)\n",
        "print(number_of_iterations)\n",
        "\n"
      ]
    },
    {
      "cell_type": "markdown",
      "metadata": {
        "id": "0nS-kIa8g8vd"
      },
      "source": [
        "# Задача 5\n",
        "Написать функцию, которая принимает два целочисленных вектора одинаковой длины и\n",
        "возвращает среднеквадратическое отклонение двух векторов. Написать тесты для кода"
      ]
    },
    {
      "cell_type": "code",
      "execution_count": 4,
      "metadata": {
        "id": "8iphx4LM6xbx"
      },
      "outputs": [
        {
          "name": "stdout",
          "output_type": "stream",
          "text": [
            "3.0\n"
          ]
        }
      ],
      "source": [
        "def mse(vector1, vector2):\n",
        "  \"\"\"\n",
        "  Вычисляет среднеквадратическое отклонение между двумя векторами.\n",
        "\n",
        "  Args:\n",
        "    vector1: Первый вектор (список чисел).\n",
        "    vector2: Второй вектор (список чисел).\n",
        "\n",
        "  Returns:\n",
        "    Среднеквадратическое отклонение.\n",
        "  \"\"\"\n",
        "\n",
        "  if len(vector1) != len(vector2):\n",
        "    raise ValueError(\"Векторы должны иметь одинаковую длину\")\n",
        "  \n",
        "  square_diffs = []\n",
        "  for i in range(len(vector1)):\n",
        "    diff = vector1[i] - vector2[i]\n",
        "    square_diffs.append(diff * diff)\n",
        "  \n",
        "  mean_squared_diff = sum(square_diffs) / len(vector1)\n",
        "  return math.sqrt(mean_squared_diff)\n",
        "\n",
        "# Импорт библиотеки math для квадратного корня\n",
        "import math\n",
        "\n",
        "# Пример использования\n",
        "vector1 = [1, 2, 3]\n",
        "vector2 = [4, 5, 6]\n",
        "\n",
        "mse_value = mse(vector1, vector2)\n",
        "print(mse_value)\n",
        "\n"
      ]
    },
    {
      "cell_type": "markdown",
      "metadata": {
        "id": "vpIPKL439zkw"
      },
      "source": [
        "# Задача 6\n",
        "Написать функцию, принимающая целое положительное число. Функция должна вернуть\n",
        "строку вида “(n1**p1)(n2**p2)…(nk**pk)” представляющая разложение числа на простые\n",
        "множители (если pi == 1, то выводить только ni).\n",
        "Например, для числа 86240 функция должна вернуть “(2**5)(5)(7**2)(11)”. Написать тесты для кода"
      ]
    },
    {
      "cell_type": "code",
      "execution_count": 5,
      "metadata": {
        "id": "pFebmcZk94Jw"
      },
      "outputs": [
        {
          "name": "stdout",
          "output_type": "stream",
          "text": [
            "(2**5)5(7**2)11\n"
          ]
        }
      ],
      "source": [
        "def prime_factorization(n):\n",
        "  \"\"\"\n",
        "  Разлагает целое положительное число на простые множители.\n",
        "\n",
        "  Args:\n",
        "    n: Целое положительное число.\n",
        "\n",
        "  Returns:\n",
        "    Строка, представляющая разложение числа на простые множители.\n",
        "  \"\"\"\n",
        "\n",
        "  factors = {}\n",
        "  for i in range(2, int(n ** 0.5) + 1):\n",
        "    while n % i == 0:\n",
        "      factors[i] = factors.get(i, 0) + 1\n",
        "      n //= i\n",
        "  if n > 1:\n",
        "    factors[n] = 1\n",
        "\n",
        "  return \"\".join(\n",
        "      f\"({factor}**{power})\" if power > 1 else f\"{factor}\"\n",
        "      for factor, power in sorted(factors.items())\n",
        "  )\n",
        "\n",
        "# Пример использования\n",
        "number = 86240\n",
        "factorization = prime_factorization(number)\n",
        "print(factorization)\n",
        "\n",
        "# (2**5)(5)(7**2)(11)\n"
      ]
    },
    {
      "cell_type": "markdown",
      "metadata": {
        "id": "ps2s0BudX7A2"
      },
      "source": [
        "# Задача 7\n",
        "Написать функцию, принимающая целое число n, задающее количество кубиков. Функция\n",
        "должна определить, можно ли из данного кол-ва кубиков построить пирамиду, то есть\n",
        "можно ли представить число n как 1^2+2^2+3^2+…+k^2. Если можно, то функция должна\n",
        "вернуть k, иначе строку “It is impossible”. Написать тесты для кода"
      ]
    },
    {
      "cell_type": "code",
      "execution_count": null,
      "metadata": {
        "id": "3YPjEXxhX_YT"
      },
      "outputs": [],
      "source": [
        "def pyramid(number):\n",
        "    # Your code goes here\n",
        "    pass"
      ]
    },
    {
      "cell_type": "markdown",
      "metadata": {
        "id": "KeKgmIdAQMEJ"
      },
      "source": [
        "# Задача 8\n",
        "Функция принимает на вход положительное число и определяет является ли оно сбалансированным, т.е. сумма цифр до средних равна сумме цифр после. Средними в случае нечетного числа цифр считать одну цифру, в случае четного - две средних. Написать тесты для кода"
      ]
    },
    {
      "cell_type": "code",
      "execution_count": 8,
      "metadata": {
        "id": "gMAAqtqlQrZt"
      },
      "outputs": [
        {
          "ename": "TypeError",
          "evalue": "unsupported operand type(s) for +: 'int' and 'str'",
          "output_type": "error",
          "traceback": [
            "\u001b[1;31m---------------------------------------------------------------------------\u001b[0m",
            "\u001b[1;31mTypeError\u001b[0m                                 Traceback (most recent call last)",
            "Cell \u001b[1;32mIn[8], line 28\u001b[0m\n\u001b[0;32m     26\u001b[0m \u001b[38;5;66;03m# Примеры использования\u001b[39;00m\n\u001b[0;32m     27\u001b[0m number \u001b[38;5;241m=\u001b[39m \u001b[38;5;241m12345\u001b[39m\n\u001b[1;32m---> 28\u001b[0m is_balanced_value \u001b[38;5;241m=\u001b[39m \u001b[43mis_balanced\u001b[49m\u001b[43m(\u001b[49m\u001b[43mnumber\u001b[49m\u001b[43m)\u001b[49m\n\u001b[0;32m     29\u001b[0m \u001b[38;5;28mprint\u001b[39m(is_balanced_value)\n\u001b[0;32m     31\u001b[0m number \u001b[38;5;241m=\u001b[39m \u001b[38;5;241m1234\u001b[39m\n",
            "Cell \u001b[1;32mIn[8], line 18\u001b[0m, in \u001b[0;36mis_balanced\u001b[1;34m(n)\u001b[0m\n\u001b[0;32m     15\u001b[0m digits \u001b[38;5;241m=\u001b[39m \u001b[38;5;28mlist\u001b[39m(\u001b[38;5;28mstr\u001b[39m(n))\n\u001b[0;32m     16\u001b[0m mid \u001b[38;5;241m=\u001b[39m \u001b[38;5;28mlen\u001b[39m(digits) \u001b[38;5;241m/\u001b[39m\u001b[38;5;241m/\u001b[39m \u001b[38;5;241m2\u001b[39m\n\u001b[1;32m---> 18\u001b[0m left_sum \u001b[38;5;241m=\u001b[39m \u001b[38;5;28;43msum\u001b[39;49m\u001b[43m(\u001b[49m\u001b[43mdigits\u001b[49m\u001b[43m[\u001b[49m\u001b[43m:\u001b[49m\u001b[43mmid\u001b[49m\u001b[43m]\u001b[49m\u001b[43m)\u001b[49m\n\u001b[0;32m     19\u001b[0m right_sum \u001b[38;5;241m=\u001b[39m \u001b[38;5;28msum\u001b[39m(digits[mid \u001b[38;5;241m+\u001b[39m \u001b[38;5;241m1\u001b[39m:])\n\u001b[0;32m     21\u001b[0m \u001b[38;5;28;01mif\u001b[39;00m \u001b[38;5;28mlen\u001b[39m(digits) \u001b[38;5;241m%\u001b[39m \u001b[38;5;241m2\u001b[39m \u001b[38;5;241m==\u001b[39m \u001b[38;5;241m0\u001b[39m:\n",
            "\u001b[1;31mTypeError\u001b[0m: unsupported operand type(s) for +: 'int' and 'str'"
          ]
        }
      ],
      "source": [
        "def is_balanced(n):\n",
        "  \"\"\"\n",
        "  Определяет, является ли число сбалансированным.\n",
        "\n",
        "  Args:\n",
        "    n: Положительное целое число.\n",
        "\n",
        "  Returns:\n",
        "    True, если число сбалансированное, False - если нет.\n",
        "  \"\"\"\n",
        "\n",
        "  if n < 10:\n",
        "    return True\n",
        "\n",
        "  digits = list(str(n))\n",
        "  mid = len(digits) // 2\n",
        "\n",
        "  left_sum = sum(digits[:mid])\n",
        "  right_sum = sum(digits[mid + 1:])\n",
        "\n",
        "  if len(digits) % 2 == 0:\n",
        "    return left_sum == right_sum\n",
        "  else:\n",
        "    return left_sum == right_sum + digits[mid]\n",
        "\n",
        "# Примеры использования\n",
        "number = 12345\n",
        "is_balanced_value = is_balanced(number)\n",
        "print(is_balanced_value)\n",
        "\n",
        "number = 1234\n",
        "is_balanced_value = is_balanced(number)\n",
        "print(is_balanced_value)\n",
        "\n",
        "number = 123\n",
        "is_balanced_value = is_balanced(number)\n",
        "print(is_balanced_value)\n"
      ]
    }
  ],
  "metadata": {
    "colab": {
      "provenance": []
    },
    "kernelspec": {
      "display_name": "Python 3",
      "name": "python3"
    },
    "language_info": {
      "codemirror_mode": {
        "name": "ipython",
        "version": 3
      },
      "file_extension": ".py",
      "mimetype": "text/x-python",
      "name": "python",
      "nbconvert_exporter": "python",
      "pygments_lexer": "ipython3",
      "version": "3.10.4"
    }
  },
  "nbformat": 4,
  "nbformat_minor": 0
}
